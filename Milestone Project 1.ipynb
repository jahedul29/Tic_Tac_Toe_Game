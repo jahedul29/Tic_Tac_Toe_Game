{
 "cells": [
  {
   "cell_type": "markdown",
   "metadata": {},
   "source": [
    "**Step 1 : Making a function for displaying board**"
   ]
  },
  {
   "cell_type": "code",
   "execution_count": 1,
   "metadata": {},
   "outputs": [],
   "source": [
    "from IPython.display import clear_output\n",
    "\n",
    "def display_board(board):\n",
    "    print(board[0] + ' | ' + board[1] + ' | ' + board[2] +'\\n' +\n",
    "          '--'    + '|' + '---'     + '|' +'--'  + '\\n'+\n",
    "          board[3] + ' | ' + board[4] + ' | ' + board[5] + '\\n' +\n",
    "          '--'    + '|' + '---'     + '|' +'--'  + '\\n'+\n",
    "          board[6] + ' | ' + board[7] + ' | ' + board[8] + '\\n')"
   ]
  },
  {
   "cell_type": "code",
   "execution_count": 2,
   "metadata": {},
   "outputs": [
    {
     "name": "stdout",
     "output_type": "stream",
     "text": [
      "# | X | O\n",
      "--|---|--\n",
      "X | O | X\n",
      "--|---|--\n",
      "O | X | O\n",
      "\n"
     ]
    }
   ],
   "source": [
    "test_board = ['#','X','O','X','O','X','O','X','O','X']\n",
    "display_board(test_board)"
   ]
  },
  {
   "cell_type": "code",
   "execution_count": 3,
   "metadata": {},
   "outputs": [],
   "source": [
    "#display_board(test_board)"
   ]
  },
  {
   "cell_type": "markdown",
   "metadata": {},
   "source": [
    "**Step 2: Write a function that can take in a player input and assign their marker as 'X' or 'O'. Think about using *while* loops to continually ask until you get a correct answer.**"
   ]
  },
  {
   "cell_type": "code",
   "execution_count": 4,
   "metadata": {},
   "outputs": [],
   "source": [
    "def player_input():\n",
    "    marker = ' '\n",
    "    \n",
    "    while marker.upper() != 'X' and marker.upper() != 'O':\n",
    "        marker = input(\"Please enter marker 'X' or 'O': \")\n",
    "    \n",
    "    player1_marker = marker.upper()\n",
    "    if player1_marker == 'X':\n",
    "        player2_marker = 'O'\n",
    "    elif player1_marker == 'O':\n",
    "        player2_marker = 'X'\n",
    "    else:\n",
    "        pass\n",
    "    \n",
    "    return (player1_marker, player2_marker)"
   ]
  },
  {
   "cell_type": "code",
   "execution_count": 5,
   "metadata": {},
   "outputs": [],
   "source": [
    "#player1_marker,player2_marker = player_input()\n",
    "#print(player1_marker,player2_marker)\n"
   ]
  },
  {
   "cell_type": "markdown",
   "metadata": {},
   "source": [
    "**Step 3: Write a function that takes in the board list object, a marker ('X' or 'O'), and a desired position (number 1-9) and assigns it to the board.**"
   ]
  },
  {
   "cell_type": "code",
   "execution_count": 6,
   "metadata": {},
   "outputs": [],
   "source": [
    "def place_marker(board, marker, position):\n",
    "    board[position] = marker"
   ]
  },
  {
   "cell_type": "code",
   "execution_count": 7,
   "metadata": {},
   "outputs": [
    {
     "name": "stdout",
     "output_type": "stream",
     "text": [
      "  |   |  \n",
      "--|---|--\n",
      "X | X | X\n",
      "--|---|--\n",
      "  |   |  \n",
      "\n"
     ]
    }
   ],
   "source": [
    "board = [' ']*10\n",
    "\n",
    "place_marker(board, 'X', 3)\n",
    "place_marker(board, 'X', 4)\n",
    "place_marker(board, 'X', 5)\n",
    "display_board(board)"
   ]
  },
  {
   "cell_type": "markdown",
   "metadata": {},
   "source": [
    "**TEST Step 4: run the win_check function against our test_board - it should return True**"
   ]
  },
  {
   "cell_type": "code",
   "execution_count": 8,
   "metadata": {},
   "outputs": [],
   "source": [
    "def win_check(board, marker):\n",
    "    if board[0] == marker and board[1] == marker and board[2] == marker:\n",
    "        return True\n",
    "    elif board[0] == marker and board[3] == marker and board[6] == marker:\n",
    "        return True\n",
    "    elif board[6] == marker and board[7] == marker and board[8] == marker:\n",
    "        return True\n",
    "    elif board[2] == marker and board[5] == marker and board[8] == marker:\n",
    "        return True\n",
    "    elif board[0] == marker and board[4] == marker and board[8] == marker:\n",
    "        return True\n",
    "    elif board[3] == marker and board[4] == marker and board[5] == marker:\n",
    "        return True\n",
    "    elif board[1] == marker and board[4] == marker and board[7] == marker:\n",
    "        return True\n",
    "    elif board[2] == marker and board[4] == marker and board[6] == marker:\n",
    "        return True\n",
    "    else:\n",
    "        return False"
   ]
  },
  {
   "cell_type": "code",
   "execution_count": 9,
   "metadata": {},
   "outputs": [],
   "source": [
    "#win_check(board, 'X')"
   ]
  },
  {
   "cell_type": "markdown",
   "metadata": {},
   "source": [
    "**Step 5: Write a function that uses the random module to randomly decide which player goes first. You may want to lookup random.randint() Return a string of which player went first.**"
   ]
  },
  {
   "cell_type": "code",
   "execution_count": 10,
   "metadata": {},
   "outputs": [],
   "source": [
    "import random\n",
    "def choose_first():\n",
    "    value = random.randint(1,2)\n",
    "    if value == 1:\n",
    "        print(\"It's Player1's turn !!!!\")\n",
    "        return 1\n",
    "    else:\n",
    "        print(\"It's Player2's turn !!!!\")\n",
    "        return 2"
   ]
  },
  {
   "cell_type": "code",
   "execution_count": 11,
   "metadata": {},
   "outputs": [],
   "source": [
    "#choose_first()"
   ]
  },
  {
   "cell_type": "markdown",
   "metadata": {},
   "source": [
    "**Step 6: Write a function that returns a boolean indicating whether a space on the board is freely available.**"
   ]
  },
  {
   "cell_type": "code",
   "execution_count": 12,
   "metadata": {},
   "outputs": [],
   "source": [
    "def space_check(board, position):\n",
    "    return board[position] == ' '\n",
    "        "
   ]
  },
  {
   "cell_type": "markdown",
   "metadata": {},
   "source": [
    "**Step 6: Write a function that returns a boolean indicating whether a space on the board is freely available.**"
   ]
  },
  {
   "cell_type": "code",
   "execution_count": 13,
   "metadata": {},
   "outputs": [],
   "source": [
    "def full_board_check(board):\n",
    "    return ' ' not in board"
   ]
  },
  {
   "cell_type": "code",
   "execution_count": 14,
   "metadata": {},
   "outputs": [],
   "source": [
    "#full_board_check(board)"
   ]
  },
  {
   "cell_type": "markdown",
   "metadata": {},
   "source": [
    "**Step 8: Write a function that asks for a player's next position (as a number 1-9) and then uses the function from step 6 to check if it's a free position. If it is, then return the position for later use.**"
   ]
  },
  {
   "cell_type": "code",
   "execution_count": 15,
   "metadata": {},
   "outputs": [],
   "source": [
    "def player_choice(board):\n",
    "    \n",
    "    position = int(input(\"Please enter a position : \"))\n",
    "    while not space_check(board, position):\n",
    "        print(\"This place is not free !\\n\")\n",
    "        position = int(input(\"Please enter a position : \"))\n",
    "        \n",
    "    return position"
   ]
  },
  {
   "cell_type": "code",
   "execution_count": 16,
   "metadata": {},
   "outputs": [],
   "source": [
    "#display_board(board)\n",
    "#value = player_choice(board)\n",
    "#value"
   ]
  },
  {
   "cell_type": "markdown",
   "metadata": {},
   "source": [
    "**Step 9: Write a function that asks the player if they want to play again and returns a boolean True if they do want to play again.**"
   ]
  },
  {
   "cell_type": "code",
   "execution_count": 17,
   "metadata": {},
   "outputs": [],
   "source": [
    "def replay():\n",
    "    \n",
    "    decision = input('Do you want to replay the gamy ?? Y or N?')\n",
    "    while decision.lower() != 'y' and decision.lower() != 'n' :\n",
    "        print('Enter valid input !!\\n')\n",
    "        decision = input('Do you want to replay the gamy ?? Y or N? : ')\n",
    "        \n",
    "    if decision.lower() == 'y':\n",
    "        return True\n",
    "    else:\n",
    "        return False\n",
    "        \n",
    "    "
   ]
  },
  {
   "cell_type": "code",
   "execution_count": 18,
   "metadata": {},
   "outputs": [],
   "source": [
    "#replay()"
   ]
  },
  {
   "cell_type": "markdown",
   "metadata": {},
   "source": [
    "***Final combination***"
   ]
  },
  {
   "cell_type": "code",
   "execution_count": null,
   "metadata": {},
   "outputs": [
    {
     "name": "stdout",
     "output_type": "stream",
     "text": [
      "Welcome to Tic Tac Toe\n",
      "It's Player1's turn !!!!\n",
      "Please enter marker 'X' or 'O': x\n",
      "Player 1's marker is X\n",
      "\n",
      "Player 2's marker is O\n",
      "\n",
      "  |   |  \n",
      "--|---|--\n",
      "  |   |  \n",
      "--|---|--\n",
      "  |   |  \n",
      "\n",
      "It's Player 1's turn\n",
      "\n",
      "Player 1's marker is X\n",
      "\n",
      "Player 2's marker is O\n",
      "\n",
      "Please enter a position : 0\n",
      "X |   |  \n",
      "--|---|--\n",
      "  |   |  \n",
      "--|---|--\n",
      "  |   |  \n",
      "\n",
      "It's Player 2's turn\n",
      "\n",
      "Player 1's marker is X\n",
      "\n",
      "Player 2's marker is O\n",
      "\n",
      "Please enter a position : 1\n",
      "X | O |  \n",
      "--|---|--\n",
      "  |   |  \n",
      "--|---|--\n",
      "  |   |  \n",
      "\n",
      "It's Player 1's turn\n",
      "\n",
      "Player 1's marker is X\n",
      "\n",
      "Player 2's marker is O\n",
      "\n",
      "Please enter a position : 4\n",
      "X | O |  \n",
      "--|---|--\n",
      "  | X |  \n",
      "--|---|--\n",
      "  |   |  \n",
      "\n",
      "It's Player 2's turn\n",
      "\n",
      "Player 1's marker is X\n",
      "\n",
      "Player 2's marker is O\n",
      "\n"
     ]
    }
   ],
   "source": [
    "print(\"Welcome to Tic Tac Toe\")\n",
    "\n",
    "while True:\n",
    "    board = [' ']*10\n",
    "    \n",
    "    first_player = choose_first()\n",
    "    \n",
    "    if first_player == 1:\n",
    "        player1_marker, player2_marker = player_input()\n",
    "    else:\n",
    "        player2_marker, player1_marker = player_input()\n",
    "    \n",
    "    player_marker = ['#',player1_marker, player2_marker]\n",
    "        \n",
    "    print(\"Player 1's marker is {}\\n\".format(player1_marker))\n",
    "    print(\"Player 2's marker is {}\\n\".format(player2_marker))\n",
    "    display_board(board)\n",
    "    \n",
    "    player = first_player\n",
    "    \n",
    "    while not full_board_check(board):\n",
    "        if player%2 == 1:\n",
    "            value = 1\n",
    "        else:\n",
    "            value = 2\n",
    "            \n",
    "        print(f\"It's Player {value}'s turn\\n\")\n",
    "        print(\"Player 1's marker is {}\\n\".format(player1_marker))\n",
    "        print(\"Player 2's marker is {}\\n\".format(player2_marker))\n",
    "        position = player_choice(board)\n",
    "        place_marker(board, player_marker[value], position)\n",
    "        display_board(board)\n",
    "        if win_check(board, player_marker[value]):\n",
    "            print(f'Congratulation Player{value} have won the game')\n",
    "            break\n",
    "        \n",
    "        player+=1\n",
    "        \n",
    "    if full_board_check(board):\n",
    "        if not replay():\n",
    "            print(\"Thank you\\n\")\n",
    "            break\n",
    "        "
   ]
  },
  {
   "cell_type": "code",
   "execution_count": null,
   "metadata": {},
   "outputs": [],
   "source": []
  }
 ],
 "metadata": {
  "kernelspec": {
   "display_name": "Python 3",
   "language": "python",
   "name": "python3"
  },
  "language_info": {
   "codemirror_mode": {
    "name": "ipython",
    "version": 3
   },
   "file_extension": ".py",
   "mimetype": "text/x-python",
   "name": "python",
   "nbconvert_exporter": "python",
   "pygments_lexer": "ipython3",
   "version": "3.6.9"
  }
 },
 "nbformat": 4,
 "nbformat_minor": 2
}
